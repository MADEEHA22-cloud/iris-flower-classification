{
 "cells": [
  {
   "cell_type": "code",
   "execution_count": null,
   "id": "22500a6f",
   "metadata": {},
   "outputs": [],
   "source": [
    "# Iris Flower Classification\n",
    "# Submitted by: [Your Name]\n",
    "# Internship: NSP NEXUS - Week 1"
   ]
  },
  {
   "cell_type": "code",
   "execution_count": null,
   "id": "f05d1c26",
   "metadata": {},
   "outputs": [],
   "source": [
    "# -----------------------------------\n",
    "# 1. Importing Required Libraries\n",
    "# -----------------------------------\n",
    "import pandas as pd\n",
    "import numpy as np\n",
    "import matplotlib.pyplot as plt\n",
    "import seaborn as sns\n",
    "from sklearn.datasets import load_iris\n",
    "from sklearn.model_selection import train_test_split\n",
    "from sklearn.neighbors import KNeighborsClassifier\n",
    "from sklearn.metrics import accuracy_score, confusion_matrix, classification_report"
   ]
  },
  {
   "cell_type": "code",
   "execution_count": null,
   "id": "564b83c5",
   "metadata": {},
   "outputs": [],
   "source": [
    "# -----------------------------------\n",
    "# 2. Load the Dataset\n",
    "# -----------------------------------\n",
    "iris = load_iris()\n",
    "df = pd.DataFrame(data=iris.data, columns=iris.feature_names)\n",
    "df['species'] = iris.target\n",
    "df['species'] = df['species'].map({0: 'setosa', 1: 'versicolor', 2: 'virginica'})"
   ]
  },
  {
   "cell_type": "code",
   "execution_count": null,
   "id": "d604ca05",
   "metadata": {},
   "outputs": [],
   "source": [
    "# -----------------------------------\n",
    "# 3. Explore the Data\n",
    "# -----------------------------------\n",
    "print(\"First 5 rows of the dataset:\")\n",
    "print(df.head())"
   ]
  },
  {
   "cell_type": "code",
   "execution_count": null,
   "id": "be1f5144",
   "metadata": {},
   "outputs": [],
   "source": [
    "print(\"\\nDataset Info:\")\n",
    "print(df.info())"
   ]
  },
  {
   "cell_type": "code",
   "execution_count": null,
   "id": "32dc4c6e",
   "metadata": {},
   "outputs": [],
   "source": [
    "print(\"\\nSummary Statistics:\")\n",
    "print(df.describe())"
   ]
  },
  {
   "cell_type": "code",
   "execution_count": null,
   "id": "c747d33d",
   "metadata": {},
   "outputs": [],
   "source": [
    "sns.pairplot(df, hue='species')\n",
    "plt.suptitle(\"Pairplot of Iris Dataset\", y=1.02)\n",
    "plt.show()"
   ]
  },
  {
   "cell_type": "code",
   "execution_count": null,
   "id": "6d746f78",
   "metadata": {},
   "outputs": [],
   "source": [
    "plt.figure(figsize=(8, 6))\n",
    "sns.heatmap(df.iloc[:, :-1].corr(), annot=True, cmap='coolwarm')\n",
    "plt.title(\"Feature Correlation Heatmap\")\n",
    "plt.show()"
   ]
  },
  {
   "cell_type": "code",
   "execution_count": null,
   "id": "c2c4922d",
   "metadata": {},
   "outputs": [],
   "source": [
    "# -----------------------------------\n",
    "# 4. Preprocess the Data\n",
    "# -----------------------------------\n",
    "X = df.iloc[:, :-1]\n",
    "y = df['species']"
   ]
  },
  {
   "cell_type": "code",
   "execution_count": null,
   "id": "06eed244",
   "metadata": {},
   "outputs": [],
   "source": [
    "X_train, X_test, y_train, y_test = train_test_split(X, y, test_size=0.2, random_state=42)"
   ]
  },
  {
   "cell_type": "code",
   "execution_count": null,
   "id": "e2779a04",
   "metadata": {},
   "outputs": [],
   "source": [
    "# -----------------------------------\n",
    "# 5. Train the Model (KNN)\n",
    "# -----------------------------------\n",
    "model = KNeighborsClassifier()\n",
    "model.fit(X_train, y_train)"
   ]
  },
  {
   "cell_type": "code",
   "execution_count": null,
   "id": "29ae8f2f",
   "metadata": {},
   "outputs": [],
   "source": [
    "# -----------------------------------\n",
    "# 6. Evaluate the Model\n",
    "# -----------------------------------\n",
    "y_pred = model.predict(X_test)"
   ]
  },
  {
   "cell_type": "code",
   "execution_count": null,
   "id": "556053ed",
   "metadata": {},
   "outputs": [],
   "source": [
    "print(\"\\nAccuracy Score:\", accuracy_score(y_test, y_pred))\n",
    "print(\"\\nConfusion Matrix:\\n\", confusion_matrix(y_test, y_pred))\n",
    "print(\"\\nClassification Report:\\n\", classification_report(y_test, y_pred))"
   ]
  },
  {
   "cell_type": "code",
   "execution_count": null,
   "id": "f2af580d",
   "metadata": {},
   "outputs": [],
   "source": [
    "conf_matrix = confusion_matrix(y_test, y_pred)\n",
    "sns.heatmap(conf_matrix, annot=True, cmap='Blues', xticklabels=iris.target_names, yticklabels=iris.target_names)\n",
    "plt.title(\"Confusion Matrix\")\n",
    "plt.xlabel(\"Predicted\")\n",
    "plt.ylabel(\"Actual\")\n",
    "plt.show()"
   ]
  },
  {
   "cell_type": "code",
   "execution_count": null,
   "id": "349631ec",
   "metadata": {},
   "outputs": [],
   "source": [
    "# -----------------------------------\n",
    "# 7. Summary\n",
    "# -----------------------------------\n",
    "print(\"✅ Model trained and evaluated successfully!\")"
   ]
  }
 ],
 "metadata": {},
 "nbformat": 4,
 "nbformat_minor": 5
}
